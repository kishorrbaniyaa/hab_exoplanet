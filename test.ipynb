{
 "cells": [
  {
   "cell_type": "code",
   "execution_count": 2,
   "id": "b0acb2dd",
   "metadata": {},
   "outputs": [
    {
     "name": "stdout",
     "output_type": "stream",
     "text": [
      "Total exoplanets analyzed: 572\n",
      "Potentially habitable exoplanets found: 17\n",
      "List of habitable planets found:\n",
      "                 name         mass     radius  temperature   flux\n",
      "2         Kepler-22 b     9.100000   2.100000        279.0  1.013\n",
      "29       Kepler-553 c  2129.450327  11.578877        251.0  0.589\n",
      "43              PH2 b    87.084984   9.337081        295.1  1.200\n",
      "105            K2-3 d     2.200000   1.458000        305.2  1.440\n",
      "109           K2-18 b     8.630000   2.610000        254.9  1.005\n",
      "143      TRAPPIST-1 f     0.680000   1.045000        219.0  0.382\n",
      "144      TRAPPIST-1 g     1.340000   1.127000        198.6  0.258\n",
      "148        LHS 1140 b     5.600000   1.730000        226.0  0.430\n",
      "149        LHS 1140 b     6.980000   1.727000        235.0  0.503\n",
      "150        LHS 1140 b     6.650000   1.430000        230.0  0.460\n",
      "181     Kepler-1654 b   158.915000   9.180171        206.0  0.300\n",
      "228  EPIC 248847494 b  4131.790000  12.441990        183.0  0.190\n",
      "246     Kepler-1661 b    17.000000   3.870000        243.0  0.880\n",
      "275     WD 1856+534 b  4386.054000  10.400000        163.0  0.181\n",
      "314     Kepler-1704 b  1322.166173  11.948773        253.8  0.342\n",
      "396        LP 890-9 c    25.300000   1.367000        272.0  0.906\n",
      "492        TOI-2134 c    41.890000   7.270000        306.0  1.400\n"
     ]
    },
    {
     "name": "stderr",
     "output_type": "stream",
     "text": [
      "C:\\Users\\kisho\\AppData\\Local\\Temp\\ipykernel_33668\\1273398368.py:49: SettingWithCopyWarning: \n",
      "A value is trying to be set on a copy of a slice from a DataFrame.\n",
      "Try using .loc[row_indexer,col_indexer] = value instead\n",
      "\n",
      "See the caveats in the documentation: https://pandas.pydata.org/pandas-docs/stable/user_guide/indexing.html#returning-a-view-versus-a-copy\n",
      "  habitable_planets['ESI (%)'] = habitable_planets.apply(compute_esi, axis=1)\n"
     ]
    }
   ],
   "source": [
    "##test\n",
    "from astroquery.ipac.nexsci.nasa_exoplanet_archive import NasaExoplanetArchive\n",
    "import joblib\n",
    "\n",
    "def compute_esi(row):\n",
    "    # Avoid division by zero\n",
    "    radius_score = (1 - abs(row['radius'] - 1) / (row['radius'] + 1)) ** 0.57\n",
    "    mass_score = (1 - abs(row['mass'] - 1) / (row['mass'] + 1)) ** 1.07\n",
    "    temp_score = (1 - abs(row['temperature'] - 288) / (row['temperature'] + 288)) ** 5.58\n",
    "\n",
    "    # You can optionally add flux_score with a similar formula\n",
    "\n",
    "    esi = radius_score * mass_score * temp_score\n",
    "    return round(esi * 100, 2)  # Return as percentage\n",
    "\n",
    "# live data from the NASA Exoplanet Archive\n",
    "data = NasaExoplanetArchive.query_criteria(\n",
    "    table=\"ps\",\n",
    "    select=\"pl_name, pl_bmasse, pl_rade, pl_eqt, pl_insol\",\n",
    "    where=\"pl_bmasse IS NOT NULL AND pl_rade IS NOT NULL AND pl_eqt IS NOT NULL AND pl_insol IS NOT NULL\"\n",
    ")\n",
    "\n",
    "# renaming the columns for clarity\n",
    "g = data.to_pandas()\n",
    "g.rename(columns={\n",
    "    'pl_name': 'name',\n",
    "    'pl_bmasse': 'mass',\n",
    "    'pl_rade': 'radius',\n",
    "    'pl_eqt': 'temperature',\n",
    "    'pl_insol': 'flux'\n",
    "}, inplace=True)\n",
    "\n",
    "\n",
    "# Dropping rows with missing values in key columns\n",
    "g.dropna(subset=['mass', 'radius', 'temperature', 'flux'], inplace=True)\n",
    "\n",
    "# Loading the previously trained model and scaler to predict habitability\n",
    "scaler = joblib.load('scaler.pkl')\n",
    "model = joblib.load('habitability_model.pkl')\n",
    "\n",
    "# Sclaing the features for prediction\n",
    "features = ['mass', 'radius', 'temperature', 'flux']\n",
    "X_new = scaler.transform(g[features])\n",
    "\n",
    "g['potentially_habitable'] = model.predict(X_new)\n",
    "\n",
    "# Filtering the potentially habitable planets\n",
    "habitable_planets = g[g['potentially_habitable'] == 1]\n",
    "habitable_planets['ESI (%)'] = habitable_planets.apply(compute_esi, axis=1)\n",
    "habitable_planets.to_csv('predicted_habitable_exoplanets.csv', index=False)\n",
    "\n",
    "\n",
    "# Those planets are then expored to a CSV file\n",
    "habitable_planets.to_csv('predicted_habitable_exoplanets.csv', index=False)\n",
    "\n",
    "# Displaying the results\n",
    "print(\"Total exoplanets analyzed:\", len(g))\n",
    "print(\"Potentially habitable exoplanets found:\", len(habitable_planets))\n",
    "print(\"List of habitable planets found:\")\n",
    "print(habitable_planets[['name', 'mass', 'radius', 'temperature', 'flux']].head(len(habitable_planets)))"
   ]
  },
  {
   "cell_type": "code",
   "execution_count": null,
   "id": "ba082ac2",
   "metadata": {},
   "outputs": [
    {
     "name": "stdout",
     "output_type": "stream",
     "text": [
      "📊 All visuals saved in /graphics folder for your poster.\n"
     ]
    },
    {
     "data": {
      "text/plain": [
       "<Figure size 640x480 with 0 Axes>"
      ]
     },
     "metadata": {},
     "output_type": "display_data"
    },
    {
     "data": {
      "text/plain": [
       "<Figure size 640x480 with 0 Axes>"
      ]
     },
     "metadata": {},
     "output_type": "display_data"
    },
    {
     "data": {
      "text/plain": [
       "<Figure size 640x480 with 0 Axes>"
      ]
     },
     "metadata": {},
     "output_type": "display_data"
    },
    {
     "data": {
      "text/plain": [
       "<Figure size 640x480 with 0 Axes>"
      ]
     },
     "metadata": {},
     "output_type": "display_data"
    },
    {
     "data": {
      "text/plain": [
       "<Figure size 1150x660 with 0 Axes>"
      ]
     },
     "metadata": {},
     "output_type": "display_data"
    },
    {
     "data": {
      "text/plain": [
       "<Figure size 1150x660 with 0 Axes>"
      ]
     },
     "metadata": {},
     "output_type": "display_data"
    }
   ],
   "source": [
    "##graphics\n",
    "import matplotlib.pyplot as plt\n",
    "import pandas as pd\n",
    "import seaborn as sns\n",
    "import shap\n",
    "import os\n",
    "os.makedirs(\"graphics\", exist_ok=True)\n",
    "\n",
    "for feature in features:\n",
    "    plt.figure()\n",
    "    sns.histplot(data=g, x=feature, hue='potentially_habitable', kde=True, palette='Set2')\n",
    "    plt.title(f\"{feature.capitalize()} Distribution by Habitability\")\n",
    "    if feature == 'flux':\n",
    "        # Use more bins and no KDE for better accuracy in skewed data\n",
    "        sns.histplot(data=g, x=feature, hue='potentially_habitable', kde=False, bins=60, palette='Set2')\n",
    "        plt.xlim(0, 1000)  # or 0–10 if you want to focus only on the habitable range\n",
    "    else:\n",
    "        sns.histplot(data=g, x=feature, hue='potentially_habitable', kde=True, palette='Set2')\n",
    "\n",
    "    plt.tight_layout()\n",
    "    plt.savefig(f\"graphics/{feature}_distribution_hist.png\", dpi=300)\n",
    "    plt.clf()\n",
    "\n",
    "# Scatter Plot: Radius vs Temperature\n",
    "sns.scatterplot(data=g, x='radius', y='temperature', hue='potentially_habitable', palette='coolwarm')\n",
    "plt.title(\"Habitability Zone: Radius vs Temperature\")\n",
    "plt.xlabel(\"Radius (Earth radii)\")\n",
    "plt.ylabel(\"Equilibrium Temperature (K)\")\n",
    "plt.tight_layout()\n",
    "plt.savefig(\"graphics/radius_vs_temperature.png\", dpi=300)\n",
    "plt.clf()\n",
    "\n",
    "# Feature Importance Bar Plot\n",
    "importances = model.feature_importances_\n",
    "plt.barh(features, importances, color='teal')\n",
    "plt.xlabel(\"Importance\")\n",
    "plt.title(\"Feature Importance (Random Forest)\")\n",
    "plt.tight_layout()\n",
    "plt.savefig(\"graphics/feature_importance.png\", dpi=300)\n",
    "plt.clf()\n",
    "\n",
    "# SHAP Explainability\n",
    "explainer = shap.TreeExplainer(model)\n",
    "shap_values = explainer.shap_values(X_new)\n",
    "\n",
    "# X_new to DataFrame for SHAP\n",
    "X_df = pd.DataFrame(X_new, columns=features)\n",
    "\n",
    "if isinstance(shap_values, list):\n",
    "    shap_to_plot = shap_values[1] if len(shap_values) > 1 else shap_values[0]\n",
    "else:\n",
    "    shap_to_plot = shap_values\n",
    "\n",
    "if shap_to_plot.shape[0] != X_df.shape[0]:\n",
    "    min_len = min(shap_to_plot.shape[0], X_df.shape[0])\n",
    "    shap_to_plot = shap_to_plot[:min_len]\n",
    "    X_df = X_df.iloc[:min_len]\n",
    "\n",
    "# SHAP bar plot\n",
    "shap.summary_plot(shap_to_plot, X_df, plot_type=\"bar\", show=False)\n",
    "plt.tight_layout()\n",
    "plt.savefig(\"graphics/shap_feature_importance.png\", dpi=300)\n",
    "plt.clf()\n",
    "\n",
    "# SHAP beeswarm\n",
    "shap.summary_plot(shap_to_plot, X_df, show=False)\n",
    "plt.tight_layout()\n",
    "plt.savefig(\"graphics/shap_summary.png\", dpi=300)\n",
    "plt.clf()\n",
    "\n",
    "print(\"📊 All visuals saved in /graphics folder for your poster.\")"
   ]
  }
 ],
 "metadata": {
  "kernelspec": {
   "display_name": "Python 3",
   "language": "python",
   "name": "python3"
  },
  "language_info": {
   "codemirror_mode": {
    "name": "ipython",
    "version": 3
   },
   "file_extension": ".py",
   "mimetype": "text/x-python",
   "name": "python",
   "nbconvert_exporter": "python",
   "pygments_lexer": "ipython3",
   "version": "3.13.0"
  }
 },
 "nbformat": 4,
 "nbformat_minor": 5
}
