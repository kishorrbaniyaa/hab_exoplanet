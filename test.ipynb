{
 "cells": [
  {
   "cell_type": "code",
   "execution_count": null,
   "id": "b0acb2dd",
   "metadata": {},
   "outputs": [
    {
     "name": "stdout",
     "output_type": "stream",
     "text": [
      "Total exoplanets analyzed: 572\n",
      "Potentially habitable exoplanets found (after ESI): 17\n",
      "Top habitable planets by ESI:\n",
      "                 name         mass     radius  temperature   flux  ESI(%)\n",
      "105            K2-3 d     2.200000   1.458000        305.2  1.440   45.63\n",
      "143      TRAPPIST-1 f     0.680000   1.045000        219.0  0.382   34.82\n",
      "144      TRAPPIST-1 g     1.340000   1.127000        198.6  0.258   26.29\n",
      "2         Kepler-22 b     9.100000   2.100000        279.0  1.013   12.60\n",
      "396        LP 890-9 c    25.300000   1.367000        272.0  0.906   12.47\n",
      "148        LHS 1140 b     5.600000   1.730000        226.0  0.430   11.39\n",
      "150        LHS 1140 b     6.650000   1.430000        230.0  0.460   10.98\n",
      "43              PH2 b    87.084984   9.337081        295.1  1.200   10.95\n",
      "149        LHS 1140 b     6.980000   1.727000        235.0  0.503   10.50\n",
      "492        TOI-2134 c    41.890000   7.270000        306.0  1.400    9.88\n",
      "109           K2-18 b     8.630000   2.610000        254.9  1.005    9.52\n",
      "314     Kepler-1704 b  1322.166173  11.948773        253.8  0.342    8.15\n",
      "29       Kepler-553 c  2129.450327  11.578877        251.0  0.589    7.89\n",
      "246     Kepler-1661 b    17.000000   3.870000        243.0  0.880    7.16\n",
      "181     Kepler-1654 b   158.915000   9.180171        206.0  0.300    4.26\n",
      "228  EPIC 248847494 b  4131.790000  12.441990        183.0  0.190    2.87\n",
      "275     WD 1856+534 b  4386.054000  10.400000        163.0  0.181    1.92\n"
     ]
    }
   ],
   "source": [
    "from astroquery.ipac.nexsci.nasa_exoplanet_archive import NasaExoplanetArchive\n",
    "import joblib\n",
    "import pandas as pd\n",
    "import numpy as np\n",
    "\n",
    "def compute_esi(row):\n",
    "    temp = np.clip(row['temperature'], 150, 350)\n",
    "    mass = np.clip(row['mass'], 0.1, 10)\n",
    "    radius = np.clip(row['radius'], 0.5, 2.5)\n",
    "\n",
    "    radius_score = (1 - abs(radius - 1) / (radius + 1)) ** 0.57\n",
    "    mass_score = (1 - abs(mass - 1) / (mass + 1)) ** 1.07\n",
    "    temp_score = (1 - abs(temp - 288) / (temp + 288)) ** 5.58\n",
    "\n",
    "    esi = radius_score * mass_score * temp_score\n",
    "    return round(esi * 100, 2)\n",
    "\n",
    "# live exoplanet data from NASA\n",
    "data = NasaExoplanetArchive.query_criteria(\n",
    "    table=\"ps\",\n",
    "    select=\"pl_name, pl_bmasse, pl_rade, pl_eqt, pl_insol\",\n",
    "    where=\"pl_bmasse IS NOT NULL AND pl_rade IS NOT NULL AND pl_eqt IS NOT NULL AND pl_insol IS NOT NULL\"\n",
    ")\n",
    "\n",
    "# pandas DataFrame\n",
    "g = data.to_pandas()\n",
    "g.rename(columns={\n",
    "    'pl_name': 'name',\n",
    "    'pl_bmasse': 'mass',\n",
    "    'pl_rade': 'radius',\n",
    "    'pl_eqt': 'temperature',\n",
    "    'pl_insol': 'flux'\n",
    "}, inplace=True)\n",
    "\n",
    "# Dropping null values\n",
    "g.dropna(subset=['mass', 'radius', 'temperature', 'flux'], inplace=True)\n",
    "\n",
    "g[['mass', 'radius', 'temperature', 'flux']] = g[['mass', 'radius', 'temperature', 'flux']].astype(float)\n",
    "\n",
    "scaler = joblib.load('scaler.pkl')\n",
    "model = joblib.load('habitability_model.pkl')\n",
    "\n",
    "features = ['mass', 'radius', 'temperature', 'flux']\n",
    "X_new = scaler.transform(g[features])\n",
    "g['potentially_habitable'] = model.predict(X_new)\n",
    "\n",
    "habitable_planets = g[g['potentially_habitable'] == 1].copy()\n",
    "\n",
    "habitable_planets['ESI(%)'] = habitable_planets.apply(compute_esi, axis=1)\n",
    "\n",
    "# Sorting planets by highest ESI\n",
    "habitable_planets.sort_values(by='ESI(%)', ascending=False, inplace=True)\n",
    "\n",
    "habitable_planets.to_csv('predicted_habitable_exoplanets.csv', index=False)\n",
    "\n",
    "print(\"Total exoplanets analyzed:\", len(g))\n",
    "print(\"Potentially habitable exoplanets found (after ESI):\", len(habitable_planets))\n",
    "print(\"Top habitable planets by ESI:\")\n",
    "print(habitable_planets[['name', 'mass', 'radius', 'temperature', 'flux', 'ESI(%)']].head(18))\n"
   ]
  },
  {
   "cell_type": "code",
   "execution_count": 8,
   "id": "ba082ac2",
   "metadata": {},
   "outputs": [
    {
     "data": {
      "text/plain": [
       "<Figure size 640x480 with 0 Axes>"
      ]
     },
     "metadata": {},
     "output_type": "display_data"
    },
    {
     "data": {
      "text/plain": [
       "<Figure size 640x480 with 0 Axes>"
      ]
     },
     "metadata": {},
     "output_type": "display_data"
    },
    {
     "data": {
      "text/plain": [
       "<Figure size 640x480 with 0 Axes>"
      ]
     },
     "metadata": {},
     "output_type": "display_data"
    },
    {
     "data": {
      "text/plain": [
       "<Figure size 640x480 with 0 Axes>"
      ]
     },
     "metadata": {},
     "output_type": "display_data"
    }
   ],
   "source": [
    "##graphics\n",
    "import matplotlib.pyplot as plt\n",
    "import seaborn as sns\n",
    "import os\n",
    "os.makedirs(\"graphics\", exist_ok=True)\n",
    "\n",
    "for feature in features:\n",
    "    plt.figure()\n",
    "    sns.histplot(data=g, x=feature, hue='potentially_habitable', kde=True, palette='Set2')\n",
    "    plt.title(f\"{feature.capitalize()} Distribution by Habitability\")\n",
    "    if feature == 'flux' or feature == 'mass':\n",
    "        plt.xscale('log')\n",
    "        \n",
    "    plt.xlabel(feature.capitalize())\n",
    "\n",
    "    plt.tight_layout()\n",
    "    plt.savefig(f\"graphics/{feature}_distribution_hist.png\", dpi=300)\n",
    "    plt.clf()\n",
    "\n",
    "# Scatter Plot: Radius vs Temperature\n",
    "sns.scatterplot(data=g, x='radius', y='temperature', hue='potentially_habitable', palette='coolwarm')\n",
    "plt.title(\"Habitability Zone: Radius vs Temperature\")\n",
    "plt.xlabel(\"Radius (Earth radii)\")\n",
    "plt.ylabel(\"Equilibrium Temperature (K)\")\n",
    "plt.tight_layout()\n",
    "plt.savefig(\"graphics/radius_vs_temperature.png\", dpi=300)\n",
    "plt.clf()\n",
    "\n",
    "# Feature Importance Bar Plot\n",
    "importances = model.feature_importances_\n",
    "plt.barh(features, importances, color='teal')\n",
    "plt.xlabel(\"Importance\")\n",
    "plt.title(\"Feature Importance (Random Forest)\")\n",
    "plt.tight_layout()\n",
    "plt.savefig(\"graphics/feature_importance.png\", dpi=300)\n",
    "plt.clf()"
   ]
  }
 ],
 "metadata": {
  "kernelspec": {
   "display_name": "Python 3",
   "language": "python",
   "name": "python3"
  },
  "language_info": {
   "codemirror_mode": {
    "name": "ipython",
    "version": 3
   },
   "file_extension": ".py",
   "mimetype": "text/x-python",
   "name": "python",
   "nbconvert_exporter": "python",
   "pygments_lexer": "ipython3",
   "version": "3.13.0"
  }
 },
 "nbformat": 4,
 "nbformat_minor": 5
}
